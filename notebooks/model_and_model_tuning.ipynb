{
 "cells": [
  {
   "cell_type": "code",
   "execution_count": 9,
   "id": "9d860e29",
   "metadata": {},
   "outputs": [],
   "source": [
    "# Everything needed to run this notebook\n",
    "import numpy as np\n",
    "import matplotlib.pyplot as plt\n",
    "import pandas as pd\n",
    "\n",
    "%matplotlib inline\n",
    "\n",
    "from sklearn.model_selection import train_test_split, cross_val_score, GridSearchCV, KFold\n",
    "from sklearn.linear_model import LinearRegression\n",
    "from sklearn.ensemble import RandomForestRegressor, GradientBoostingRegressor\n",
    "from sklearn.neighbors import KNeighborsRegressor\n",
    "from sklearn.metrics import r2_score, mean_squared_error, root_mean_squared_error\n",
    "from sklearn.pipeline import Pipeline\n"
   ]
  },
  {
   "cell_type": "markdown",
   "id": "a8fe8783",
   "metadata": {},
   "source": [
    "## Introduction"
   ]
  },
  {
   "cell_type": "markdown",
   "id": "02557cb3",
   "metadata": {},
   "source": [
    "In our previous notebook, which is named Exploratory Data Analysis (EDA), we got a better understanding of what the data looks like in the NBA-Player Stats-Season 24/25 dataset. We found that most of the data was numerical. We cleaned out the categorical data, plotted histograms to see the distribution of stats, and checked the correlation. In this notebook we are going to create a baseline model and do model tuning with more advanced models."
   ]
  },
  {
   "cell_type": "markdown",
   "id": "62201a17",
   "metadata": {},
   "source": [
    "## Reading the CSV"
   ]
  },
  {
   "cell_type": "markdown",
   "id": "563b351a",
   "metadata": {},
   "source": [
    "We created a new dataset name **numeric_dataset.csv** which just contains numerical data. We are going to read this data set by using the **Pandas** library. We will get basic information about this dataset, including the shape and we will use the `.head()` so you know what data we are using to build the regression models. "
   ]
  },
  {
   "cell_type": "code",
   "execution_count": 10,
   "id": "14b5e210",
   "metadata": {},
   "outputs": [
    {
     "name": "stdout",
     "output_type": "stream",
     "text": [
      "The shape of the dataset is: (16512 rows, 20 columns)\n"
     ]
    },
    {
     "data": {
      "text/html": [
       "<div>\n",
       "<style scoped>\n",
       "    .dataframe tbody tr th:only-of-type {\n",
       "        vertical-align: middle;\n",
       "    }\n",
       "\n",
       "    .dataframe tbody tr th {\n",
       "        vertical-align: top;\n",
       "    }\n",
       "\n",
       "    .dataframe thead th {\n",
       "        text-align: right;\n",
       "    }\n",
       "</style>\n",
       "<table border=\"1\" class=\"dataframe\">\n",
       "  <thead>\n",
       "    <tr style=\"text-align: right;\">\n",
       "      <th></th>\n",
       "      <th>MP</th>\n",
       "      <th>FG</th>\n",
       "      <th>FGA</th>\n",
       "      <th>FG%</th>\n",
       "      <th>3P</th>\n",
       "      <th>3PA</th>\n",
       "      <th>3P%</th>\n",
       "      <th>FT</th>\n",
       "      <th>FTA</th>\n",
       "      <th>FT%</th>\n",
       "      <th>ORB</th>\n",
       "      <th>DRB</th>\n",
       "      <th>TRB</th>\n",
       "      <th>AST</th>\n",
       "      <th>STL</th>\n",
       "      <th>BLK</th>\n",
       "      <th>TOV</th>\n",
       "      <th>PF</th>\n",
       "      <th>PTS</th>\n",
       "      <th>GmSc</th>\n",
       "    </tr>\n",
       "  </thead>\n",
       "  <tbody>\n",
       "    <tr>\n",
       "      <th>0</th>\n",
       "      <td>30.30</td>\n",
       "      <td>14</td>\n",
       "      <td>18</td>\n",
       "      <td>0.778</td>\n",
       "      <td>8</td>\n",
       "      <td>11</td>\n",
       "      <td>0.727</td>\n",
       "      <td>1</td>\n",
       "      <td>2</td>\n",
       "      <td>0.500</td>\n",
       "      <td>0</td>\n",
       "      <td>4</td>\n",
       "      <td>4</td>\n",
       "      <td>10</td>\n",
       "      <td>1</td>\n",
       "      <td>1</td>\n",
       "      <td>1</td>\n",
       "      <td>1</td>\n",
       "      <td>37</td>\n",
       "      <td>38.1</td>\n",
       "    </tr>\n",
       "    <tr>\n",
       "      <th>1</th>\n",
       "      <td>37.58</td>\n",
       "      <td>11</td>\n",
       "      <td>23</td>\n",
       "      <td>0.478</td>\n",
       "      <td>1</td>\n",
       "      <td>3</td>\n",
       "      <td>0.333</td>\n",
       "      <td>13</td>\n",
       "      <td>15</td>\n",
       "      <td>0.867</td>\n",
       "      <td>3</td>\n",
       "      <td>13</td>\n",
       "      <td>16</td>\n",
       "      <td>4</td>\n",
       "      <td>1</td>\n",
       "      <td>3</td>\n",
       "      <td>1</td>\n",
       "      <td>1</td>\n",
       "      <td>36</td>\n",
       "      <td>34.0</td>\n",
       "    </tr>\n",
       "    <tr>\n",
       "      <th>2</th>\n",
       "      <td>26.63</td>\n",
       "      <td>8</td>\n",
       "      <td>13</td>\n",
       "      <td>0.615</td>\n",
       "      <td>6</td>\n",
       "      <td>10</td>\n",
       "      <td>0.600</td>\n",
       "      <td>2</td>\n",
       "      <td>2</td>\n",
       "      <td>1.000</td>\n",
       "      <td>0</td>\n",
       "      <td>3</td>\n",
       "      <td>3</td>\n",
       "      <td>4</td>\n",
       "      <td>1</td>\n",
       "      <td>0</td>\n",
       "      <td>0</td>\n",
       "      <td>1</td>\n",
       "      <td>24</td>\n",
       "      <td>22.4</td>\n",
       "    </tr>\n",
       "    <tr>\n",
       "      <th>3</th>\n",
       "      <td>30.52</td>\n",
       "      <td>7</td>\n",
       "      <td>9</td>\n",
       "      <td>0.778</td>\n",
       "      <td>4</td>\n",
       "      <td>6</td>\n",
       "      <td>0.667</td>\n",
       "      <td>0</td>\n",
       "      <td>0</td>\n",
       "      <td>0.000</td>\n",
       "      <td>2</td>\n",
       "      <td>2</td>\n",
       "      <td>4</td>\n",
       "      <td>4</td>\n",
       "      <td>1</td>\n",
       "      <td>0</td>\n",
       "      <td>0</td>\n",
       "      <td>2</td>\n",
       "      <td>18</td>\n",
       "      <td>19.5</td>\n",
       "    </tr>\n",
       "    <tr>\n",
       "      <th>4</th>\n",
       "      <td>25.85</td>\n",
       "      <td>8</td>\n",
       "      <td>10</td>\n",
       "      <td>0.800</td>\n",
       "      <td>4</td>\n",
       "      <td>5</td>\n",
       "      <td>0.800</td>\n",
       "      <td>2</td>\n",
       "      <td>3</td>\n",
       "      <td>0.667</td>\n",
       "      <td>0</td>\n",
       "      <td>0</td>\n",
       "      <td>0</td>\n",
       "      <td>2</td>\n",
       "      <td>0</td>\n",
       "      <td>0</td>\n",
       "      <td>1</td>\n",
       "      <td>1</td>\n",
       "      <td>22</td>\n",
       "      <td>17.8</td>\n",
       "    </tr>\n",
       "  </tbody>\n",
       "</table>\n",
       "</div>"
      ],
      "text/plain": [
       "      MP  FG  FGA    FG%  3P  3PA    3P%  ...  AST  STL  BLK  TOV  PF  PTS  GmSc\n",
       "0  30.30  14   18  0.778   8   11  0.727  ...   10    1    1    1   1   37  38.1\n",
       "1  37.58  11   23  0.478   1    3  0.333  ...    4    1    3    1   1   36  34.0\n",
       "2  26.63   8   13  0.615   6   10  0.600  ...    4    1    0    0   1   24  22.4\n",
       "3  30.52   7    9  0.778   4    6  0.667  ...    4    1    0    0   2   18  19.5\n",
       "4  25.85   8   10  0.800   4    5  0.800  ...    2    0    0    1   1   22  17.8\n",
       "\n",
       "[5 rows x 20 columns]"
      ]
     },
     "execution_count": 10,
     "metadata": {},
     "output_type": "execute_result"
    }
   ],
   "source": [
    "clean_data = pd.read_csv('/home/kylep/cs3120/project/NBA-EDA-and-Model-Tuning/data/numeric_dataset.csv')\n",
    "print(f\"The shape of the dataset is: ({clean_data.shape[0]} rows, {clean_data.shape[1]} columns)\")\n",
    "clean_data.head()"
   ]
  },
  {
   "cell_type": "markdown",
   "id": "3dd79be8",
   "metadata": {},
   "source": [
    "## Defining our Predictors and our Target Variable"
   ]
  },
  {
   "cell_type": "markdown",
   "id": "1bbe78a6",
   "metadata": {},
   "source": [
    "Looking back at the correlation matrix in the EDA notebook, I think a good set of predictors would be: Minutes Played (MP), Field Goals (FG), Field Goal Attempts (FGA), 3 Pointers (3P), Total Rebounds (TRB), and Assists (AST). Our target variable is Points (PTS). "
   ]
  },
  {
   "cell_type": "code",
   "execution_count": 11,
   "id": "5e60b0f5",
   "metadata": {},
   "outputs": [],
   "source": [
    "features = ['MP', 'FG', 'FGA', '3P', 'TRB', 'AST']\n",
    "X = clean_data[features]\n",
    "y = clean_data['PTS']"
   ]
  },
  {
   "cell_type": "markdown",
   "id": "1859445c",
   "metadata": {},
   "source": [
    "## Splitting the Data"
   ]
  },
  {
   "cell_type": "markdown",
   "id": "795b695b",
   "metadata": {},
   "source": [
    "First we are going to split the data using the `train_test_split` function. Usually when testing with this function you will do a 80/20 ratio. 80% of the data is used for training and 20% of the data is used for testing."
   ]
  },
  {
   "cell_type": "code",
   "execution_count": 12,
   "id": "fcb6abd8",
   "metadata": {},
   "outputs": [],
   "source": [
    "X_train, X_test, y_train, y_test = train_test_split(X, y, test_size=0.2, random_state=42)"
   ]
  },
  {
   "cell_type": "markdown",
   "id": "ca4542c8",
   "metadata": {},
   "source": [
    "## Creating a Baseline Model (Linear Regression)"
   ]
  },
  {
   "cell_type": "code",
   "execution_count": 13,
   "id": "ef286a0b",
   "metadata": {},
   "outputs": [
    {
     "name": "stdout",
     "output_type": "stream",
     "text": [
      "Mean Squared Error: 3.3299\n",
      "R^2 Score: 0.9566\n",
      "Root Mean Squared Error: 1.8248\n",
      "\n",
      "Training R^2: 0.9559\n",
      "Test R^2: 0.9566\n"
     ]
    },
    {
     "data": {
      "image/png": "[encoded data removed]",
      "text/plain": [
       "<Figure size 640x480 with 1 Axes>"
      ]
     },
     "metadata": {},
     "output_type": "display_data"
    }
   ],
   "source": [
    "ls_model = LinearRegression()\n",
    "ls_model.fit(X_train, y_train)\n",
    "\n",
    "y_pred = ls_model.predict(X_test)\n",
    "\n",
    "mse = mean_squared_error(y_test, y_pred)\n",
    "r2 = r2_score(y_test, y_pred)\n",
    "rmse = root_mean_squared_error(y_test, y_pred)\n",
    "\n",
    "print(f\"Mean Squared Error: {mse:.4f}\")\n",
    "print(f\"R^2 Score: {r2:.4f}\")\n",
    "print(f\"Root Mean Squared Error: {rmse:.4f}\")\n",
    "\n",
    "# Training predictions\n",
    "y_train_pred = ls_model.predict(X_train)\n",
    "\n",
    "# Training metrics\n",
    "train_mse = mean_squared_error(y_train, y_train_pred)\n",
    "train_r2 = r2_score(y_train, y_train_pred)\n",
    "\n",
    "print(f\"\\nTraining R^2: {train_r2:.4f}\")\n",
    "print(f\"Test R^2: {r2:.4f}\")\n",
    "\n",
    "plt.scatter(y_test, y_pred)\n",
    "plt.xlabel(\"Actual Values\")\n",
    "plt.ylabel(\"Predicted Values\")\n",
    "plt.title(\"Actual vs Predicted\")\n",
    "plt.plot([y_test.min(), y_test.max()], [y_test.min(), y_test.max()], 'r--')\n",
    "plt.show()"
   ]
  },
  {
   "cell_type": "markdown",
   "id": "a5940c4c",
   "metadata": {},
   "source": [
    "## Random Forest Regressor"
   ]
  },
  {
   "cell_type": "code",
   "execution_count": 19,
   "id": "663d28a3",
   "metadata": {},
   "outputs": [
    {
     "name": "stdout",
     "output_type": "stream",
     "text": [
      "Fitting 5 folds for each of 72 candidates, totalling 360 fits\n",
      "\n",
      "BEST RANDOM FOREST MODEL\n",
      "Best Parameters: {'max_depth': 10, 'max_features': 'sqrt', 'min_samples_leaf': 2, 'min_samples_split': 2, 'n_estimators': 200}\n",
      "Best Cross-Val RMSE: 1.9156\n",
      "\n",
      "TRAINING PERFORMANCE\n",
      "Training R²   : 0.9666\n",
      "Training MSE  : 2.6109\n",
      "Training RMSE : 1.6158\n",
      "\n",
      "TEST PERFORMANCE\n",
      "Test R²       : 0.9532\n",
      "Test MSE      : 3.5914\n",
      "Test RMSE     : 1.8951\n"
     ]
    },
    {
     "data": {
      "image/png": "[encoded data removed]",
      "text/plain": [
       "<Figure size 600x500 with 1 Axes>"
      ]
     },
     "metadata": {},
     "output_type": "display_data"
    }
   ],
   "source": [
    "rf_model = RandomForestRegressor(random_state=42)\n",
    "\n",
    "param_grid = {\n",
    "    \"n_estimators\": [50, 100, 200],\n",
    "    \"max_depth\": [None, 10, 20],\n",
    "    \"min_samples_split\": [2, 5],\n",
    "    \"min_samples_leaf\": [1, 2],\n",
    "    \"max_features\": [\"sqrt\", \"log2\"]\n",
    "}\n",
    "\n",
    "scoring = {\n",
    "    \"r2\": \"r2\",\n",
    "    \"mse\": \"neg_mean_squared_error\",\n",
    "    \"rmse\": \"neg_root_mean_squared_error\"\n",
    "}\n",
    "\n",
    "grid_search = GridSearchCV(\n",
    "    estimator=rf_model,\n",
    "    param_grid=param_grid,\n",
    "    scoring=scoring,\n",
    "    refit=\"rmse\",\n",
    "    cv=5,\n",
    "    n_jobs=-1,\n",
    "    verbose=1\n",
    ")\n",
    "\n",
    "grid_search.fit(X_train, y_train)\n",
    "best_rf = grid_search.best_estimator_\n",
    "\n",
    "print(\"\\nBEST RANDOM FOREST MODEL\")\n",
    "print(\"Best Parameters:\", grid_search.best_params_)\n",
    "print(f\"Best Cross-Val RMSE: {-grid_search.best_score_:.4f}\")\n",
    "\n",
    "y_train_pred = best_rf.predict(X_train)\n",
    "train_r2 = r2_score(y_train, y_train_pred)\n",
    "train_mse = mean_squared_error(y_train, y_train_pred)\n",
    "train_rmse = root_mean_squared_error(y_train, y_train_pred)\n",
    "\n",
    "y_test_pred = best_rf.predict(X_test)\n",
    "test_r2 = r2_score(y_test, y_test_pred)\n",
    "test_mse = mean_squared_error(y_test, y_test_pred)\n",
    "test_rmse = root_mean_squared_error(y_test, y_test_pred)\n",
    "\n",
    "print(\"\\nTRAINING PERFORMANCE\")\n",
    "print(f\"Training R²   : {train_r2:.4f}\")\n",
    "print(f\"Training MSE  : {train_mse:.4f}\")\n",
    "print(f\"Training RMSE : {train_rmse:.4f}\")\n",
    "\n",
    "print(\"\\nTEST PERFORMANCE\")\n",
    "print(f\"Test R²       : {test_r2:.4f}\")\n",
    "print(f\"Test MSE      : {test_mse:.4f}\")\n",
    "print(f\"Test RMSE     : {test_rmse:.4f}\")\n",
    "\n",
    "metrics = ['RMSE', 'R²']\n",
    "train_scores = [train_rmse, train_r2]\n",
    "test_scores = [test_rmse, test_r2]\n",
    "\n",
    "plt.figure(figsize=(6,5))\n",
    "plt.plot(metrics, train_scores, marker='o', label='Train')\n",
    "plt.plot(metrics, test_scores, marker='o', label='Test')\n",
    "plt.title('Train vs Test Performance')\n",
    "plt.ylabel('Score')\n",
    "plt.legend()\n",
    "plt.show()"
   ]
  }
 ],
 "metadata": {
  "kernelspec": {
   "display_name": ".venv",
   "language": "python",
   "name": "python3"
  },
  "language_info": {
   "codemirror_mode": {
    "name": "ipython",
    "version": 3
   },
   "file_extension": ".py",
   "mimetype": "text/x-python",
   "name": "python",
   "nbconvert_exporter": "python",
   "pygments_lexer": "ipython3",
   "version": "3.12.3"
  }
 },
 "nbformat": 4,
 "nbformat_minor": 5
}
